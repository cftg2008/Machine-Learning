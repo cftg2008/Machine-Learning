{
 "cells": [
  {
   "cell_type": "markdown",
   "id": "0ea0ae0b",
   "metadata": {},
   "source": [
    "## Objective\n",
    "* This is to demonstrate how linear regression is applied for CO2 level prediction\n",
    "* Evaluate the accuracy of the model\n",
    "\n",
    "## Work Flow\n",
    "\n",
    "1. Import libraries, import LinearRegression to implement LR\n",
    "2. Read CO2 dataset from scikit-learn, plot to show the general trend of data\n",
    "3. Analyze data\n",
    "4. Add seasonal variables into the supervised model and fitting a linear regression with 2 variables \n",
    "5. Add autoregressive variables\n",
    "6. Delete missing values\n",
    "7. Fit the full linear regression model"
   ]
  },
  {
   "cell_type": "markdown",
   "id": "83bf22cf",
   "metadata": {},
   "source": [
    "### Import libraries"
   ]
  },
  {
   "cell_type": "code",
   "execution_count": 6,
   "id": "0b7efe7e",
   "metadata": {},
   "outputs": [],
   "source": [
    "# Import libraries\n",
    "\n",
    "import pandas as pd\n",
    "import numpy as np\n",
    "import matplotlib.pyplot as plt\n",
    "import seaborn as sns\n",
    "import statsmodels.api as sm\n",
    "from sklearn.model_selection import train_test_split\n",
    "from pandas.core.common import random_state\n",
    "from sklearn.linear_model import LinearRegression\n",
    "from sklearn.metrics import r2_score"
   ]
  },
  {
   "cell_type": "code",
   "execution_count": 7,
   "id": "d3cb37cc",
   "metadata": {},
   "outputs": [
    {
     "data": {
      "image/png": "[encoded data removed]",
      "text/plain": [
       "<Figure size 432x288 with 1 Axes>"
      ]
     },
     "metadata": {
      "needs_background": "light"
     },
     "output_type": "display_data"
    }
   ],
   "source": [
    "# Get dataset\n",
    "\n",
    "data = sm.datasets.co2.load_pandas()\n",
    "co2 = data.data\n",
    "co2 = co2.dropna()\n",
    "ax = co2.plot()\n",
    "ax.set_ylabel('CO2 level')\n",
    "plt.show()"
   ]
  },
  {
   "cell_type": "markdown",
   "id": "342bef4a",
   "metadata": {},
   "source": [
    "### Analyze Data"
   ]
  },
  {
   "cell_type": "code",
   "execution_count": 40,
   "id": "0858c44a",
   "metadata": {},
   "outputs": [
    {
     "data": {
      "text/html": [
       "<div>\n",
       "<style scoped>\n",
       "    .dataframe tbody tr th:only-of-type {\n",
       "        vertical-align: middle;\n",
       "    }\n",
       "\n",
       "    .dataframe tbody tr th {\n",
       "        vertical-align: top;\n",
       "    }\n",
       "\n",
       "    .dataframe thead th {\n",
       "        text-align: right;\n",
       "    }\n",
       "</style>\n",
       "<table border=\"1\" class=\"dataframe\">\n",
       "  <thead>\n",
       "    <tr style=\"text-align: right;\">\n",
       "      <th></th>\n",
       "      <th>co2</th>\n",
       "    </tr>\n",
       "  </thead>\n",
       "  <tbody>\n",
       "    <tr>\n",
       "      <th>1958-03-29</th>\n",
       "      <td>316.1</td>\n",
       "    </tr>\n",
       "    <tr>\n",
       "      <th>1958-04-05</th>\n",
       "      <td>317.3</td>\n",
       "    </tr>\n",
       "    <tr>\n",
       "      <th>1958-04-12</th>\n",
       "      <td>317.6</td>\n",
       "    </tr>\n",
       "    <tr>\n",
       "      <th>1958-04-19</th>\n",
       "      <td>317.5</td>\n",
       "    </tr>\n",
       "    <tr>\n",
       "      <th>1958-04-26</th>\n",
       "      <td>316.4</td>\n",
       "    </tr>\n",
       "  </tbody>\n",
       "</table>\n",
       "</div>"
      ],
      "text/plain": [
       "              co2\n",
       "1958-03-29  316.1\n",
       "1958-04-05  317.3\n",
       "1958-04-12  317.6\n",
       "1958-04-19  317.5\n",
       "1958-04-26  316.4"
      ]
     },
     "execution_count": 40,
     "metadata": {},
     "output_type": "execute_result"
    }
   ],
   "source": [
    "# Describe data\n",
    "co2.head()"
   ]
  },
  {
   "cell_type": "code",
   "execution_count": 3,
   "id": "5675dc34",
   "metadata": {},
   "outputs": [
    {
     "data": {
      "text/plain": [
       "Index(['co2'], dtype='object')"
      ]
     },
     "execution_count": 3,
     "metadata": {},
     "output_type": "execute_result"
    }
   ],
   "source": [
    "co2.columns"
   ]
  },
  {
   "cell_type": "markdown",
   "id": "810d4909",
   "metadata": {},
   "source": [
    "### Add seasonal variables"
   ]
  },
  {
   "cell_type": "code",
   "execution_count": 8,
   "id": "a1375a5f",
   "metadata": {},
   "outputs": [
    {
     "name": "stderr",
     "output_type": "stream",
     "text": [
      "/var/folders/66/dcvrzw3x4t35qvr38ldz56640000gn/T/ipykernel_4282/2978345605.py:1: SettingWithCopyWarning: \n",
      "A value is trying to be set on a copy of a slice from a DataFrame.\n",
      "Try using .loc[row_indexer,col_indexer] = value instead\n",
      "\n",
      "See the caveats in the documentation: https://pandas.pydata.org/pandas-docs/stable/user_guide/indexing.html#returning-a-view-versus-a-copy\n",
      "  co2['year'] = [x.year for x in co2.index]\n",
      "/var/folders/66/dcvrzw3x4t35qvr38ldz56640000gn/T/ipykernel_4282/2978345605.py:2: SettingWithCopyWarning: \n",
      "A value is trying to be set on a copy of a slice from a DataFrame.\n",
      "Try using .loc[row_indexer,col_indexer] = value instead\n",
      "\n",
      "See the caveats in the documentation: https://pandas.pydata.org/pandas-docs/stable/user_guide/indexing.html#returning-a-view-versus-a-copy\n",
      "  co2['month'] = [x.month for x in co2.index]\n"
     ]
    },
    {
     "data": {
      "text/html": [
       "<div>\n",
       "<style scoped>\n",
       "    .dataframe tbody tr th:only-of-type {\n",
       "        vertical-align: middle;\n",
       "    }\n",
       "\n",
       "    .dataframe tbody tr th {\n",
       "        vertical-align: top;\n",
       "    }\n",
       "\n",
       "    .dataframe thead th {\n",
       "        text-align: right;\n",
       "    }\n",
       "</style>\n",
       "<table border=\"1\" class=\"dataframe\">\n",
       "  <thead>\n",
       "    <tr style=\"text-align: right;\">\n",
       "      <th></th>\n",
       "      <th>co2</th>\n",
       "      <th>year</th>\n",
       "      <th>month</th>\n",
       "    </tr>\n",
       "  </thead>\n",
       "  <tbody>\n",
       "    <tr>\n",
       "      <th>1958-03-29</th>\n",
       "      <td>316.1</td>\n",
       "      <td>1958</td>\n",
       "      <td>3</td>\n",
       "    </tr>\n",
       "    <tr>\n",
       "      <th>1958-04-05</th>\n",
       "      <td>317.3</td>\n",
       "      <td>1958</td>\n",
       "      <td>4</td>\n",
       "    </tr>\n",
       "    <tr>\n",
       "      <th>1958-04-12</th>\n",
       "      <td>317.6</td>\n",
       "      <td>1958</td>\n",
       "      <td>4</td>\n",
       "    </tr>\n",
       "    <tr>\n",
       "      <th>1958-04-19</th>\n",
       "      <td>317.5</td>\n",
       "      <td>1958</td>\n",
       "      <td>4</td>\n",
       "    </tr>\n",
       "    <tr>\n",
       "      <th>1958-04-26</th>\n",
       "      <td>316.4</td>\n",
       "      <td>1958</td>\n",
       "      <td>4</td>\n",
       "    </tr>\n",
       "  </tbody>\n",
       "</table>\n",
       "</div>"
      ],
      "text/plain": [
       "              co2  year  month\n",
       "1958-03-29  316.1  1958      3\n",
       "1958-04-05  317.3  1958      4\n",
       "1958-04-12  317.6  1958      4\n",
       "1958-04-19  317.5  1958      4\n",
       "1958-04-26  316.4  1958      4"
      ]
     },
     "execution_count": 8,
     "metadata": {},
     "output_type": "execute_result"
    }
   ],
   "source": [
    "co2['year'] = [x.year for x in co2.index]\n",
    "co2['month'] = [x.month for x in co2.index]\n",
    "co2.head()"
   ]
  },
  {
   "cell_type": "markdown",
   "id": "d2c2d872",
   "metadata": {},
   "source": [
    "### Fitting a linear regression with two seasonable variables"
   ]
  },
  {
   "cell_type": "code",
   "execution_count": 9,
   "id": "4bc2f24c",
   "metadata": {},
   "outputs": [
    {
     "name": "stdout",
     "output_type": "stream",
     "text": [
      "0.9690528910892234 0.34332512339529164\n"
     ]
    },
    {
     "data": {
      "image/png": "[encoded data removed]",
      "text/plain": [
       "<Figure size 432x288 with 1 Axes>"
      ]
     },
     "metadata": {
      "needs_background": "light"
     },
     "output_type": "display_data"
    }
   ],
   "source": [
    "# Create X and y objects\n",
    "X = co2[['year', 'month']]\n",
    "y = co2['co2']\n",
    "\n",
    "# Create Train test split\n",
    "X_train, X_test, y_train, y_test = train_test_split(X, y, test_size=0.20, random_state=12345,shuffle=False)\n",
    "\n",
    "# Fit model\n",
    "my_lm = LinearRegression()\n",
    "my_lm.fit(X = X_train, y = y_train)\n",
    "\n",
    "train_fcst = my_lm.predict(X_train)\n",
    "test_fcst = my_lm.predict(X_test)\n",
    "\n",
    "train_r2 = r2_score(y_train, train_fcst)\n",
    "test_r2 = r2_score(y_test, test_fcst)\n",
    "\n",
    "print(train_r2, test_r2)\n",
    "\n",
    "# Plot result\n",
    "plt.plot(list(test_fcst))\n",
    "plt.plot(list(y_test))\n",
    "plt.xlabel('Steps into the test set')\n",
    "plt.ylabel('CO2 levels')\n",
    "plt.show()"
   ]
  },
  {
   "cell_type": "markdown",
   "id": "4ec11cd3",
   "metadata": {},
   "source": [
    "* The train R2 of the above model is 0.96, which is great\n",
    "* The test R2 is 0.34, which is bad. There is some improvement to be made"
   ]
  },
  {
   "cell_type": "markdown",
   "id": "214a7d18",
   "metadata": {},
   "source": [
    "### Add autoregressive components with feature engineering\n",
    "* Create 5 lagged variables with shift method"
   ]
  },
  {
   "cell_type": "code",
   "execution_count": 11,
   "id": "68cf3fcf",
   "metadata": {},
   "outputs": [],
   "source": [
    "# Add lagged variables into the data\n",
    "\n",
    "co2['co2_l1'] = co2['co2'].shift(1)\n",
    "co2['co2_l2'] = co2['co2'].shift(2)\n",
    "co2['co2_l3'] = co2['co2'].shift(3)\n",
    "co2['co2_l4'] = co2['co2'].shift(4)\n",
    "co2['co2_l5'] = co2['co2'].shift(5)"
   ]
  },
  {
   "cell_type": "markdown",
   "id": "77a84a3b",
   "metadata": {},
   "source": [
    "### Drop missing values\n",
    "* Lagged variables create NA in the data, we need to delete any missing data"
   ]
  },
  {
   "cell_type": "code",
   "execution_count": 12,
   "id": "f11c1ead",
   "metadata": {},
   "outputs": [],
   "source": [
    "co2 = co2.dropna()"
   ]
  },
  {
   "cell_type": "markdown",
   "id": "56ca5240",
   "metadata": {},
   "source": [
    "### Fit the full linear regression model"
   ]
  },
  {
   "cell_type": "code",
   "execution_count": 13,
   "id": "a5c769bd",
   "metadata": {},
   "outputs": [
    {
     "name": "stdout",
     "output_type": "stream",
     "text": [
      "0.998797756425323 0.99043701204628\n"
     ]
    },
    {
     "data": {
      "image/png": "[encoded data removed]",
      "text/plain": [
       "<Figure size 432x288 with 1 Axes>"
      ]
     },
     "metadata": {
      "needs_background": "light"
     },
     "output_type": "display_data"
    }
   ],
   "source": [
    "# Create X and y objects\n",
    "X = co2[['year', 'month', 'co2_l1', 'co2_l2', 'co2_l3', 'co2_l4', 'co2_l5']]\n",
    "y = co2['co2']\n",
    "\n",
    "# Train Test Split\n",
    "X_train, X_test, y_train, y_test = train_test_split(X, y, test_size=0.20, random_state=12345,shuffle=False)\n",
    "\n",
    "# Fit the model\n",
    "my_lm = LinearRegression()\n",
    "my_lm.fit(X = X_train, y = y_train)\n",
    "\n",
    "train_fcst = my_lm.predict(X_train)\n",
    "test_fcst = my_lm.predict(X_test)\n",
    "\n",
    "train_r2 = r2_score(y_train, train_fcst)\n",
    "test_r2 = r2_score(y_test, test_fcst)\n",
    "\n",
    "print(train_r2, test_r2)\n",
    "\n",
    "# Plot result\n",
    "plt.plot(list(test_fcst))\n",
    "plt.plot(list(y_test))\n",
    "plt.xlabel('Steps into the test set')\n",
    "plt.ylabel('CO2 levels')\n",
    "plt.show()"
   ]
  },
  {
   "cell_type": "markdown",
   "id": "f05d8dea",
   "metadata": {},
   "source": [
    "* The R2 train score of this model is 0.998, and the R2 test score is 0.990. It is a great performance. \n",
    "* In the plot, we can see the predictions follow the actual values almost perfectly."
   ]
  },
  {
   "cell_type": "code",
   "execution_count": null,
   "id": "d3a9decd",
   "metadata": {},
   "outputs": [],
   "source": []
  }
 ],
 "metadata": {
  "kernelspec": {
   "display_name": "Python 3 (ipykernel)",
   "language": "python",
   "name": "python3"
  },
  "language_info": {
   "codemirror_mode": {
    "name": "ipython",
    "version": 3
   },
   "file_extension": ".py",
   "mimetype": "text/x-python",
   "name": "python",
   "nbconvert_exporter": "python",
   "pygments_lexer": "ipython3",
   "version": "3.9.7"
  }
 },
 "nbformat": 4,
 "nbformat_minor": 5
}
